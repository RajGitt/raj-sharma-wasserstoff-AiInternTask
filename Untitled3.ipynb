{
  "nbformat": 4,
  "nbformat_minor": 0,
  "metadata": {
    "colab": {
      "provenance": [],
      "authorship_tag": "ABX9TyPTNkgm/Y+nIRr5ePaTYl6Z",
      "include_colab_link": true
    },
    "kernelspec": {
      "name": "python3",
      "display_name": "Python 3"
    },
    "language_info": {
      "name": "python"
    }
  },
  "cells": [
    {
      "cell_type": "markdown",
      "metadata": {
        "id": "view-in-github",
        "colab_type": "text"
      },
      "source": [
        "<a href=\"https://colab.research.google.com/github/RajGitt/Data-science/blob/main/Untitled3.ipynb\" target=\"_parent\"><img src=\"https://colab.research.google.com/assets/colab-badge.svg\" alt=\"Open In Colab\"/></a>"
      ]
    },
    {
      "cell_type": "code",
      "source": [
        "!pip install pytesseract pdf2image fastapi uvicorn python-multipart numpy Pillow\n",
        "!apt-get install -y tesseract-ocr\n",
        "!apt-get install -y poppler-utils\n",
        "!pip install pyngrok"
      ],
      "metadata": {
        "colab": {
          "base_uri": "https://localhost:8080/"
        },
        "id": "ni_4GNkbxvRO",
        "outputId": "3d3a16d4-7002-4853-bc71-88a8d53aa90b"
      },
      "execution_count": null,
      "outputs": [
        {
          "output_type": "stream",
          "name": "stdout",
          "text": [
            "Requirement already satisfied: pytesseract in /usr/local/lib/python3.11/dist-packages (0.3.13)\n",
            "Requirement already satisfied: pdf2image in /usr/local/lib/python3.11/dist-packages (1.17.0)\n",
            "Requirement already satisfied: fastapi in /usr/local/lib/python3.11/dist-packages (0.115.12)\n",
            "Requirement already satisfied: uvicorn in /usr/local/lib/python3.11/dist-packages (0.34.2)\n",
            "Requirement already satisfied: python-multipart in /usr/local/lib/python3.11/dist-packages (0.0.20)\n",
            "Requirement already satisfied: numpy in /usr/local/lib/python3.11/dist-packages (2.0.2)\n",
            "Requirement already satisfied: Pillow in /usr/local/lib/python3.11/dist-packages (11.2.1)\n",
            "Requirement already satisfied: packaging>=21.3 in /usr/local/lib/python3.11/dist-packages (from pytesseract) (24.2)\n",
            "Requirement already satisfied: starlette<0.47.0,>=0.40.0 in /usr/local/lib/python3.11/dist-packages (from fastapi) (0.46.2)\n",
            "Requirement already satisfied: pydantic!=1.8,!=1.8.1,!=2.0.0,!=2.0.1,!=2.1.0,<3.0.0,>=1.7.4 in /usr/local/lib/python3.11/dist-packages (from fastapi) (2.11.4)\n",
            "Requirement already satisfied: typing-extensions>=4.8.0 in /usr/local/lib/python3.11/dist-packages (from fastapi) (4.13.2)\n",
            "Requirement already satisfied: click>=7.0 in /usr/local/lib/python3.11/dist-packages (from uvicorn) (8.2.0)\n",
            "Requirement already satisfied: h11>=0.8 in /usr/local/lib/python3.11/dist-packages (from uvicorn) (0.16.0)\n",
            "Requirement already satisfied: annotated-types>=0.6.0 in /usr/local/lib/python3.11/dist-packages (from pydantic!=1.8,!=1.8.1,!=2.0.0,!=2.0.1,!=2.1.0,<3.0.0,>=1.7.4->fastapi) (0.7.0)\n",
            "Requirement already satisfied: pydantic-core==2.33.2 in /usr/local/lib/python3.11/dist-packages (from pydantic!=1.8,!=1.8.1,!=2.0.0,!=2.0.1,!=2.1.0,<3.0.0,>=1.7.4->fastapi) (2.33.2)\n",
            "Requirement already satisfied: typing-inspection>=0.4.0 in /usr/local/lib/python3.11/dist-packages (from pydantic!=1.8,!=1.8.1,!=2.0.0,!=2.0.1,!=2.1.0,<3.0.0,>=1.7.4->fastapi) (0.4.0)\n",
            "Requirement already satisfied: anyio<5,>=3.6.2 in /usr/local/lib/python3.11/dist-packages (from starlette<0.47.0,>=0.40.0->fastapi) (4.9.0)\n",
            "Requirement already satisfied: idna>=2.8 in /usr/local/lib/python3.11/dist-packages (from anyio<5,>=3.6.2->starlette<0.47.0,>=0.40.0->fastapi) (3.10)\n",
            "Requirement already satisfied: sniffio>=1.1 in /usr/local/lib/python3.11/dist-packages (from anyio<5,>=3.6.2->starlette<0.47.0,>=0.40.0->fastapi) (1.3.1)\n",
            "Reading package lists... Done\n",
            "Building dependency tree... Done\n",
            "Reading state information... Done\n",
            "tesseract-ocr is already the newest version (4.1.1-2.1build1).\n",
            "0 upgraded, 0 newly installed, 0 to remove and 34 not upgraded.\n",
            "Reading package lists... Done\n",
            "Building dependency tree... Done\n",
            "Reading state information... Done\n",
            "The following NEW packages will be installed:\n",
            "  poppler-utils\n",
            "0 upgraded, 1 newly installed, 0 to remove and 34 not upgraded.\n",
            "Need to get 186 kB of archives.\n",
            "After this operation, 697 kB of additional disk space will be used.\n",
            "Get:1 http://archive.ubuntu.com/ubuntu jammy-updates/main amd64 poppler-utils amd64 22.02.0-2ubuntu0.8 [186 kB]\n",
            "Fetched 186 kB in 1s (141 kB/s)\n",
            "Selecting previously unselected package poppler-utils.\n",
            "(Reading database ... 126102 files and directories currently installed.)\n",
            "Preparing to unpack .../poppler-utils_22.02.0-2ubuntu0.8_amd64.deb ...\n",
            "Unpacking poppler-utils (22.02.0-2ubuntu0.8) ...\n",
            "Setting up poppler-utils (22.02.0-2ubuntu0.8) ...\n",
            "Processing triggers for man-db (2.10.2-1) ...\n",
            "Collecting pyngrok\n",
            "  Downloading pyngrok-7.2.8-py3-none-any.whl.metadata (10 kB)\n",
            "Requirement already satisfied: PyYAML>=5.1 in /usr/local/lib/python3.11/dist-packages (from pyngrok) (6.0.2)\n",
            "Downloading pyngrok-7.2.8-py3-none-any.whl (25 kB)\n",
            "Installing collected packages: pyngrok\n",
            "Successfully installed pyngrok-7.2.8\n"
          ]
        }
      ]
    },
    {
      "cell_type": "code",
      "source": [
        "!ngrok authtoken 2xRP00vnJ17hKnVnKwXlfr9hR0S_4zQ9kVaGxf4d5sE55iMia"
      ],
      "metadata": {
        "colab": {
          "base_uri": "https://localhost:8080/"
        },
        "id": "pbQ8PXoa2Hi8",
        "outputId": "29ec43bf-bceb-479f-e291-caa4b37158e8"
      },
      "execution_count": null,
      "outputs": [
        {
          "output_type": "stream",
          "name": "stdout",
          "text": [
            "Authtoken saved to configuration file: /root/.config/ngrok/ngrok.yml\n"
          ]
        }
      ]
    },
    {
      "cell_type": "code",
      "source": [
        "from fastapi import FastAPI, UploadFile, File\n",
        "from fastapi.responses import HTMLResponse, JSONResponse\n",
        "from typing import List\n",
        "from pdf2image import convert_from_bytes\n",
        "import pytesseract\n",
        "import io\n",
        "import uuid\n",
        "import nest_asyncio\n",
        "from pyngrok import ngrok\n",
        "\n",
        "# Allow nested event loops\n",
        "nest_asyncio.apply()\n",
        "\n",
        "# Set your ngrok authtoken\n",
        "ngrok.set_auth_token(\"2xRP00vnJ17hKnVnKwXlfr9hR0S_4zQ9kVaGxf4d5sE55iMia\")  # Added authtoken here\n",
        "\n",
        "app = FastAPI(title=\"Document Research & Theme ID Chatbot\")\n",
        "\n",
        "class DocumentService:\n",
        "    def __init__(self):\n",
        "        self.documents = []  # stores dicts: id, filename, text\n",
        "\n",
        "    async def process_documents(self, files: List[UploadFile]):\n",
        "        processed = []\n",
        "        for file in files:\n",
        "            content = await file.read()\n",
        "            text = await self.extract_text(content, file.filename)\n",
        "            doc_id = str(uuid.uuid4())[:8].upper()\n",
        "            self.documents.append({\n",
        "                \"id\": doc_id,\n",
        "                \"filename\": file.filename,\n",
        "                \"text\": text\n",
        "            })\n",
        "            processed.append(doc_id)\n",
        "        return processed\n",
        "\n",
        "    async def extract_text(self, data: bytes, filename: str) -> str:\n",
        "        ext = filename.split(\".\")[-1].lower()\n",
        "        if ext == \"pdf\":\n",
        "            images = convert_from_bytes(data)\n",
        "            text_pages = [pytesseract.image_to_string(img) for img in images]\n",
        "            return \"\\n\".join(text_pages)\n",
        "        elif ext in [\"png\", \"jpg\", \"jpeg\", \"bmp\", \"tiff\"]:\n",
        "            from PIL import Image\n",
        "            image = Image.open(io.BytesIO(data))\n",
        "            text = pytesseract.image_to_string(image)\n",
        "            return text\n",
        "        else:\n",
        "            try:\n",
        "                return data.decode('utf-8')\n",
        "            except:\n",
        "                return \"\"\n",
        "\n",
        "    def list_documents(self):\n",
        "        snippet_length = 120\n",
        "        return [\n",
        "            {\n",
        "                \"id\": doc[\"id\"],\n",
        "                \"filename\": doc[\"filename\"],\n",
        "                \"snippet\": (doc[\"text\"][:snippet_length].replace(\"\\n\", \" \") + \"...\") if len(doc[\"text\"]) > snippet_length else doc[\"text\"]\n",
        "            } for doc in self.documents\n",
        "        ]\n",
        "\n",
        "    async def query_documents(self, query: str):\n",
        "        query_lower = query.lower()\n",
        "        responses = []\n",
        "        for doc in self.documents:\n",
        "            idx = doc[\"text\"].lower().find(query_lower)\n",
        "            if idx != -1:\n",
        "                snippet_start = max(0, idx - 30)\n",
        "                snippet_end = min(len(doc[\"text\"]), idx + 100)\n",
        "                snippet = doc[\"text\"][snippet_start:snippet_end].replace(\"\\n\", \" \")\n",
        "                citation = f\"Pos {idx}\"\n",
        "                responses.append({\n",
        "                    \"document_id\": doc[\"id\"],\n",
        "                    \"answer\": snippet.strip(),\n",
        "                    \"citation\": citation\n",
        "                })\n",
        "            else:\n",
        "                responses.append({\n",
        "                    \"document_id\": doc[\"id\"],\n",
        "                    \"answer\": \"No relevant information found.\",\n",
        "                    \"citation\": \"-\"\n",
        "                })\n",
        "        return {\"document_responses\": responses}\n",
        "\n",
        "document_service = DocumentService()\n",
        "\n",
        "@app.get(\"/\", response_class=HTMLResponse)\n",
        "async def root():\n",
        "    return \"\"\"\n",
        "    <!DOCTYPE html>\n",
        "    <html>\n",
        "    <head>\n",
        "        <title>Document Research & Theme Identification Chatbot</title>\n",
        "    </head>\n",
        "    <body>\n",
        "        <h1>Document Research & Theme Identification Chatbot</h1>\n",
        "        <form action=\"/upload\" method=\"post\" enctype=\"multipart/form-data\">\n",
        "            <input type=\"file\" name=\"files\" multiple required>\n",
        "            <input type=\"submit\" value=\"Upload\">\n",
        "        </form>\n",
        "        <form action=\"/query\" method=\"get\">\n",
        "            <input type=\"text\" name=\"query\" placeholder=\"Enter your query\" required>\n",
        "            <input type=\"submit\" value=\"Ask\">\n",
        "        </form>\n",
        "    </body>\n",
        "    </html>\n",
        "    \"\"\"\n",
        "\n",
        "@app.post(\"/upload\")\n",
        "async def upload(files: List[UploadFile] = File(...)):\n",
        "    if len(files) < 75:\n",
        "        return JSONResponse(status_code=400, content={\"detail\": \"Please upload at least 75 documents.\"})\n",
        "    try:\n",
        "        result = await document_service.process_documents(files)\n",
        "        return {\"status\": \"success\", \"uploaded_count\": len(result)}\n",
        "    except Exception as e:\n",
        "        return JSONResponse(status_code=500, content={\"detail\": str(e)})\n",
        "\n",
        "@app.get(\"/documents\")\n",
        "async def list_documents():\n",
        "    docs = document_service.list_documents()\n",
        "    return {\"documents\": docs}\n",
        "\n",
        "@app.get(\"/query\")\n",
        "async def query(query: str):\n",
        "    try:\n",
        "        response = await document_service.query_documents(query)\n",
        "        return response\n",
        "    except Exception as e:\n",
        "        return JSONResponse(status_code=500, content={\"error\": str(e)})\n",
        "\n",
        "# Start the server\n",
        "if __name__ == \"__main__\":\n",
        "    # Start ngrok tunnel\n",
        "    public_url = ngrok.connect(8000)\n",
        "    print(f\" * ngrok tunnel \\\"{public_url}\\\" -> \\\"http://127.0.0.1:8000\\\"\")\n",
        "    import uvicorn\n",
        "    uvicorn.run(app, host=\"0.0.0.0\", port=8000)\n"
      ],
      "metadata": {
        "colab": {
          "base_uri": "https://localhost:8080/"
        },
        "id": "_BH2WKrTx2VO",
        "outputId": "1371ac3e-1d7e-4d32-94ea-35d376f78594"
      },
      "execution_count": null,
      "outputs": [
        {
          "metadata": {
            "tags": null
          },
          "name": "stderr",
          "output_type": "stream",
          "text": [
            "INFO:     Started server process [474]\n",
            "INFO:     Waiting for application startup.\n",
            "INFO:     Application startup complete.\n",
            "INFO:     Uvicorn running on http://0.0.0.0:8000 (Press CTRL+C to quit)\n"
          ]
        },
        {
          "metadata": {
            "tags": null
          },
          "name": "stdout",
          "output_type": "stream",
          "text": [
            " * ngrok tunnel \"NgrokTunnel: \"https://3633-130-211-243-125.ngrok-free.app\" -> \"http://localhost:8000\"\" -> \"http://127.0.0.1:8000\"\n",
            "INFO:     107.150.41.226:0 - \"GET / HTTP/1.1\" 200 OK\n",
            "INFO:     107.150.41.226:0 - \"GET /favicon.ico HTTP/1.1\" 404 Not Found\n",
            "INFO:     107.150.41.226:0 - \"GET / HTTP/1.1\" 200 OK\n",
            "INFO:     107.150.41.226:0 - \"GET /favicon.ico HTTP/1.1\" 404 Not Found\n"
          ]
        }
      ]
    },
    {
      "cell_type": "code",
      "source": [],
      "metadata": {
        "id": "VFYdf1dm89aQ"
      },
      "execution_count": null,
      "outputs": []
    }
  ]
}